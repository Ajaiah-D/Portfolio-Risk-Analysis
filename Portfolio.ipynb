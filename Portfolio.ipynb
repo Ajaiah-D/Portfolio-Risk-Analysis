{
 "cells": [
  {
   "cell_type": "code",
   "execution_count": 12,
   "id": "519314f3",
   "metadata": {},
   "outputs": [],
   "source": [
    "import yfinance as yf\n",
    "import pandas as pd\n",
    "import numpy as np\n",
    "import seaborn as sns\n",
    "import matplotlib.pyplot as plt"
   ]
  },
  {
   "cell_type": "code",
   "execution_count": 13,
   "id": "c3944134",
   "metadata": {},
   "outputs": [],
   "source": [
    "#Download Adjusted Close Data\n",
    "def fetch_data(tickers, start_date, end_date):\n",
    "    data = yf.download(tickers, start=start_date, end=end_date)['Adj Close']\n",
    "    return data"
   ]
  },
  {
   "cell_type": "code",
   "execution_count": 14,
   "id": "3be1de2a",
   "metadata": {},
   "outputs": [],
   "source": [
    "#Calculate Daily Returns\n",
    "def calc_returns(prices):\n",
    "    return prices.pct_change().dropna()"
   ]
  },
  {
   "cell_type": "code",
   "execution_count": 15,
   "id": "63c4c834",
   "metadata": {},
   "outputs": [],
   "source": [
    "#Calculate Beta Relative to Benchmark\n",
    "def calc_betas(returns, benchmark):\n",
    "    spy_returns = returns[benchmark]\n",
    "    betas = {}\n",
    "    for col in returns.columns:\n",
    "        if col != benchmark:\n",
    "            beta = returns[col].cov(spy_returns) / spy_returns.var()\n",
    "            betas[col] = beta\n",
    "    return betas"
   ]
  },
  {
   "cell_type": "code",
   "execution_count": 16,
   "id": "0bd7db5a",
   "metadata": {},
   "outputs": [],
   "source": [
    "#Calculate Portfolio Metrics\n",
    "def portfolio_metrics(returns, weights_dict, betas, benchmark, risk_free_rate=0.02):\n",
    "    weights = np.array(list(weights_dict.values()))\n",
    "    tickers = list(weights_dict.keys())\n",
    "    \n",
    "    # Portfolio return & std\n",
    "    port_ret = (returns[tickers] @ weights).mean() * 252\n",
    "    port_vol = (returns[tickers] @ weights).std() * np.sqrt(252)\n",
    "\n",
    "    # Portfolio beta\n",
    "    port_beta = sum(weights[i] * betas[tickers[i]] for i in range(len(tickers)))\n",
    "\n",
    "    # Sharpe ratio\n",
    "    sharpe = (port_ret - risk_free_rate) / port_vol\n",
    "\n",
    "    return {\n",
    "        \"Annual Return\": port_ret,\n",
    "        \"Annual Volatility\": port_vol,\n",
    "        \"Sharpe Ratio\": sharpe,\n",
    "        \"Portfolio Beta\": port_beta\n",
    "    }"
   ]
  },
  {
   "cell_type": "code",
   "execution_count": 17,
   "id": "ba0aaae3",
   "metadata": {},
   "outputs": [],
   "source": [
    "#Simulate Random Portfolios for Efficient Frontier\n",
    "def simulate_portfolios(returns, benchmark, n=1000, risk_free_rate=0.02):\n",
    "    results = []\n",
    "    tickers = [t for t in returns.columns if t != benchmark]\n",
    "\n",
    "    for _ in range(n):\n",
    "        weights = np.random.dirichlet(np.ones(len(tickers)))\n",
    "        port_ret = (returns[tickers] @ weights).mean() * 252\n",
    "        port_vol = (returns[tickers] @ weights).std() * np.sqrt(252)\n",
    "        sharpe = (port_ret - risk_free_rate) / port_vol\n",
    "        results.append({\n",
    "            \"Return\": port_ret,\n",
    "            \"Volatility\": port_vol,\n",
    "            \"Sharpe\": sharpe,\n",
    "            **{tickers[i]: weights[i] for i in range(len(tickers))}\n",
    "        })\n",
    "    \n",
    "    return pd.DataFrame(results)"
   ]
  },
  {
   "cell_type": "code",
   "execution_count": 18,
   "id": "934de9fd",
   "metadata": {},
   "outputs": [],
   "source": [
    "#Plot Efficient Frontier\n",
    "def plot_frontier(df):\n",
    "    sns.set_theme(style='darkgrid')\n",
    "    plt.figure(figsize=(10,6))\n",
    "    sns.scatterplot(data=df, x='Volatility', y='Return', hue='Sharpe', palette='viridis', legend=False)\n",
    "    plt.title('Efficient Frontier')\n",
    "    plt.xlabel('Annual Volatility (Risk)')\n",
    "    plt.ylabel('Expected Annual Return')\n",
    "    plt.show()"
   ]
  },
  {
   "cell_type": "code",
   "execution_count": 19,
   "id": "313ac9e3",
   "metadata": {},
   "outputs": [
    {
     "name": "stderr",
     "output_type": "stream",
     "text": [
      "[*********************100%%**********************]  3 of 5 completed\n",
      "\n",
      "5 Failed downloads:\n",
      "[*********************100%%**********************]  3 of 5 completed"
     ]
    },
    {
     "name": "stderr",
     "output_type": "stream",
     "text": [
      "['AMZN', '^GSPC', 'AAPL', 'TSLA', 'MSFT']: JSONDecodeError('Expecting value: line 1 column 1 (char 0)')\n",
      "[**********************80%%************          ]  4 of 5 completed"
     ]
    },
    {
     "name": "stdout",
     "output_type": "stream",
     "text": [
      "{'Annual Return': nan, 'Annual Volatility': nan, 'Sharpe Ratio': nan, 'Portfolio Beta': nan}\n"
     ]
    },
    {
     "name": "stderr",
     "output_type": "stream",
     "text": [
      "C:\\Users\\haiaj\\AppData\\Local\\Temp\\ipykernel_23608\\3663593786.py:5: UserWarning: Ignoring `palette` because no `hue` variable has been assigned.\n",
      "  sns.scatterplot(data=df, x='Volatility', y='Return', hue='Sharpe', palette='viridis', legend=False)\n"
     ]
    },
    {
     "data": {
      "image/png": "[encoded data removed]",
      "text/plain": [
       "<Figure size 1000x600 with 1 Axes>"
      ]
     },
     "metadata": {},
     "output_type": "display_data"
    }
   ],
   "source": [
    "tickers = ['AAPL', 'MSFT', 'TSLA', 'AMZN', '^GSPC']\n",
    "start = '2023-01-01'\n",
    "end = '2024-12-31'\n",
    "\n",
    "prices = fetch_data(tickers, start, end)\n",
    "returns = calc_returns(prices)\n",
    "betas = calc_betas(returns, '^GSPC')\n",
    "\n",
    "weights = {'AAPL': 0.25, 'MSFT': 0.25, 'TSLA': 0.25, 'AMZN': 0.25}\n",
    "metrics = portfolio_metrics(returns, weights, betas, '^GSPC')\n",
    "print(metrics)\n",
    "\n",
    "sim_df = simulate_portfolios(returns, '^GSPC')\n",
    "plot_frontier(sim_df)"
   ]
  },
  {
   "cell_type": "code",
   "execution_count": 20,
   "id": "55bb1d6a",
   "metadata": {},
   "outputs": [
    {
     "name": "stderr",
     "output_type": "stream",
     "text": [
      "[*********************100%%**********************]  1 of 1 completed\n",
      "\n",
      "1 Failed download:\n",
      "['AAPL']: JSONDecodeError('Expecting value: line 1 column 1 (char 0)')\n"
     ]
    },
    {
     "name": "stdout",
     "output_type": "stream",
     "text": [
      "0.2.41\n",
      "Empty DataFrame\n",
      "Columns: [Open, High, Low, Close, Adj Close, Volume]\n",
      "Index: []\n"
     ]
    }
   ],
   "source": [
    "import yfinance as yf\n",
    "print(yf.__version__)\n",
    "data = yf.download(\"AAPL\", start=\"2023-01-01\", end=\"2024-12-31\")\n",
    "print(data.head())"
   ]
  },
  {
   "cell_type": "code",
   "execution_count": null,
   "id": "d7847d64",
   "metadata": {},
   "outputs": [],
   "source": []
  }
 ],
 "metadata": {
  "kernelspec": {
   "display_name": "base",
   "language": "python",
   "name": "python3"
  },
  "language_info": {
   "codemirror_mode": {
    "name": "ipython",
    "version": 3
   },
   "file_extension": ".py",
   "mimetype": "text/x-python",
   "name": "python",
   "nbconvert_exporter": "python",
   "pygments_lexer": "ipython3",
   "version": "3.11.5"
  }
 },
 "nbformat": 4,
 "nbformat_minor": 5
}
